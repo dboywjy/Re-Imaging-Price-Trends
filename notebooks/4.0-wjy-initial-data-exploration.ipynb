{
 "cells": [
  {
   "cell_type": "code",
   "execution_count": 2,
   "id": "7c90c782",
   "metadata": {},
   "outputs": [],
   "source": [
    "import numpy as np"
   ]
  },
  {
   "cell_type": "code",
   "execution_count": 3,
   "id": "9c9acd16",
   "metadata": {},
   "outputs": [],
   "source": [
    "from math import floor\n",
    "def conv2d_hw(H, W, kernel, dilation, padding, stride):\n",
    "    H2 = floor((H+2*padding[0] - dilation[0]*(kernel[0] - 1) - 1) / stride[0] + 1)\n",
    "    W2 = floor((W+2*padding[1] - dilation[1]*(kernel[1] - 1) - 1) / stride[1] + 1)\n",
    "    return [H2, W2]\n",
    "\n",
    "def maxpool_hw(H, W, kernel, dilation, padding, stride):\n",
    "    H2 = floor((H+2*padding[0] - dilation[0]*(kernel[0] - 1) - 1) / stride[0] + 1)\n",
    "    W2 = floor((W+2*padding[1] - dilation[1]*(kernel[1] - 1) - 1) / stride[1] + 1)\n",
    "    return [H2, W2]"
   ]
  },
  {
   "cell_type": "code",
   "execution_count": null,
   "id": "9b369d62",
   "metadata": {},
   "outputs": [],
   "source": []
  },
  {
   "cell_type": "code",
   "execution_count": null,
   "id": "a1dac242",
   "metadata": {},
   "outputs": [],
   "source": [
    "dilation/stride: (1, 1)/(3, 1) model7 + trainer7"
   ]
  },
  {
   "cell_type": "code",
   "execution_count": null,
   "id": "cdb6b481",
   "metadata": {},
   "outputs": [],
   "source": []
  },
  {
   "cell_type": "code",
   "execution_count": 9,
   "id": "fd999d87",
   "metadata": {},
   "outputs": [
    {
     "name": "stdout",
     "output_type": "stream",
     "text": [
      "first\n",
      "[60, 60]\n",
      "[59, 60]\n"
     ]
    }
   ],
   "source": [
    "## \n",
    "H, W = 64, 60\n",
    "\n",
    "# conv2d\n",
    "kernel = [5, 3]\n",
    "dilation = [1, 1]\n",
    "padding = [0, 1]\n",
    "stride = [1, 1]\n",
    "\n",
    "# maxpool\n",
    "kernel2 = [2, 1]\n",
    "dilation2 = [1, 1] #init\n",
    "padding2 = [0, 0]\n",
    "stride2 = [1, 1]\n",
    "\n",
    "print('first')\n",
    "[H, W] = conv2d_hw(H, W, kernel, dilation, padding, stride)\n",
    "print([H, W])\n",
    "\n",
    "[H, W] = maxpool_hw(H, W, kernel2, dilation2, padding2, stride2)\n",
    "print([H, W])"
   ]
  },
  {
   "cell_type": "code",
   "execution_count": 10,
   "id": "be10062b",
   "metadata": {},
   "outputs": [],
   "source": [
    "# [H, W] = [13, 60]"
   ]
  },
  {
   "cell_type": "code",
   "execution_count": 11,
   "id": "fa12944b",
   "metadata": {},
   "outputs": [
    {
     "name": "stdout",
     "output_type": "stream",
     "text": [
      "second\n",
      "[55, 60]\n",
      "[54, 60]\n"
     ]
    }
   ],
   "source": [
    "print('second')\n",
    "\n",
    "# conv2d\n",
    "kernel = [5, 3]\n",
    "dilation = [1, 1]\n",
    "padding = [0, 1]\n",
    "stride = [1, 1]\n",
    "\n",
    "# maxpool\n",
    "kernel2 = [2, 1]\n",
    "dilation2 = [1, 1] #init\n",
    "padding2 = [0, 0]\n",
    "stride2 = [1, 1]\n",
    "\n",
    "[H, W] = conv2d_hw(H, W, kernel, dilation, padding, stride)\n",
    "print([H, W])\n",
    "\n",
    "[H, W] = maxpool_hw(H, W, kernel2, dilation2, padding2, stride2)\n",
    "print([H, W])"
   ]
  },
  {
   "cell_type": "code",
   "execution_count": 12,
   "id": "a9a5f5c9",
   "metadata": {},
   "outputs": [],
   "source": [
    "# [H, W] = [8, 60]"
   ]
  },
  {
   "cell_type": "code",
   "execution_count": 13,
   "id": "763a32a6",
   "metadata": {},
   "outputs": [
    {
     "name": "stdout",
     "output_type": "stream",
     "text": [
      "third\n",
      "[50, 60]\n",
      "[49, 60]\n"
     ]
    }
   ],
   "source": [
    "print('third')\n",
    "\n",
    "# conv2d\n",
    "kernel = [5, 3]\n",
    "dilation = [1, 1]\n",
    "padding = [0, 1]\n",
    "stride = [1, 1]\n",
    "\n",
    "# maxpool\n",
    "kernel2 = [2, 1]\n",
    "dilation2 = [1, 1] #init\n",
    "padding2 = [0, 0]\n",
    "stride2 = [1, 1]\n",
    "\n",
    "[H, W] = conv2d_hw(H, W, kernel, dilation, padding, stride)\n",
    "print([H, W])\n",
    "\n",
    "[H, W] = maxpool_hw(H, W, kernel2, dilation2, padding2, stride2)\n",
    "print([H, W])"
   ]
  },
  {
   "cell_type": "code",
   "execution_count": 14,
   "id": "d8895768",
   "metadata": {},
   "outputs": [
    {
     "data": {
      "text/plain": [
       "752640"
      ]
     },
     "execution_count": 14,
     "metadata": {},
     "output_type": "execute_result"
    }
   ],
   "source": [
    "H*W*256"
   ]
  },
  {
   "cell_type": "code",
   "execution_count": null,
   "id": "568ea0f0",
   "metadata": {},
   "outputs": [],
   "source": []
  },
  {
   "cell_type": "code",
   "execution_count": null,
   "id": "13318930",
   "metadata": {},
   "outputs": [],
   "source": []
  },
  {
   "cell_type": "code",
   "execution_count": null,
   "id": "647597e0",
   "metadata": {},
   "outputs": [],
   "source": []
  },
  {
   "cell_type": "code",
   "execution_count": null,
   "id": "a36e05f1",
   "metadata": {},
   "outputs": [],
   "source": []
  }
 ],
 "metadata": {
  "kernelspec": {
   "display_name": "Python 3 (ipykernel)",
   "language": "python",
   "name": "python3"
  },
  "language_info": {
   "codemirror_mode": {
    "name": "ipython",
    "version": 3
   },
   "file_extension": ".py",
   "mimetype": "text/x-python",
   "name": "python",
   "nbconvert_exporter": "python",
   "pygments_lexer": "ipython3",
   "version": "3.11.5"
  }
 },
 "nbformat": 4,
 "nbformat_minor": 5
}
